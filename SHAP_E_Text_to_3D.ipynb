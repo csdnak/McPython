{
  "nbformat": 4,
  "nbformat_minor": 0,
  "metadata": {
    "colab": {
      "provenance": [],
      "gpuType": "T4",
      "include_colab_link": true
    },
    "kernelspec": {
      "name": "python3",
      "display_name": "Python 3"
    },
    "language_info": {
      "name": "python"
    },
    "accelerator": "GPU",
    "gpuClass": "standard",
    "widgets": {
      "application/vnd.jupyter.widget-state+json": {
        "0985d8f9925849b1bdab72d2296786fa": {
          "model_module": "@jupyter-widgets/controls",
          "model_name": "HBoxModel",
          "model_module_version": "1.5.0",
          "state": {
            "_dom_classes": [],
            "_model_module": "@jupyter-widgets/controls",
            "_model_module_version": "1.5.0",
            "_model_name": "HBoxModel",
            "_view_count": null,
            "_view_module": "@jupyter-widgets/controls",
            "_view_module_version": "1.5.0",
            "_view_name": "HBoxView",
            "box_style": "",
            "children": [
              "IPY_MODEL_8c5a435e777549f1aaa69442de4027ea",
              "IPY_MODEL_e9575da9638f44a3a8b5264d8b290ac2",
              "IPY_MODEL_f19cf66e3bd94c959a6506afe12bab22"
            ],
            "layout": "IPY_MODEL_80219080a5b34ddf8976435085886025"
          }
        },
        "8c5a435e777549f1aaa69442de4027ea": {
          "model_module": "@jupyter-widgets/controls",
          "model_name": "HTMLModel",
          "model_module_version": "1.5.0",
          "state": {
            "_dom_classes": [],
            "_model_module": "@jupyter-widgets/controls",
            "_model_module_version": "1.5.0",
            "_model_name": "HTMLModel",
            "_view_count": null,
            "_view_module": "@jupyter-widgets/controls",
            "_view_module_version": "1.5.0",
            "_view_name": "HTMLView",
            "description": "",
            "description_tooltip": null,
            "layout": "IPY_MODEL_b446fe6aad184f3484a39c02ffed8963",
            "placeholder": "​",
            "style": "IPY_MODEL_809c48c080be40ee95c778ec44392cac",
            "value": "100%"
          }
        },
        "e9575da9638f44a3a8b5264d8b290ac2": {
          "model_module": "@jupyter-widgets/controls",
          "model_name": "FloatProgressModel",
          "model_module_version": "1.5.0",
          "state": {
            "_dom_classes": [],
            "_model_module": "@jupyter-widgets/controls",
            "_model_module_version": "1.5.0",
            "_model_name": "FloatProgressModel",
            "_view_count": null,
            "_view_module": "@jupyter-widgets/controls",
            "_view_module_version": "1.5.0",
            "_view_name": "ProgressView",
            "bar_style": "success",
            "description": "",
            "description_tooltip": null,
            "layout": "IPY_MODEL_0a492665978d4bd79b45e178f2754645",
            "max": 1776048343,
            "min": 0,
            "orientation": "horizontal",
            "style": "IPY_MODEL_827190bbca5f4c7e8179accbb9ffbf87",
            "value": 1776048343
          }
        },
        "f19cf66e3bd94c959a6506afe12bab22": {
          "model_module": "@jupyter-widgets/controls",
          "model_name": "HTMLModel",
          "model_module_version": "1.5.0",
          "state": {
            "_dom_classes": [],
            "_model_module": "@jupyter-widgets/controls",
            "_model_module_version": "1.5.0",
            "_model_name": "HTMLModel",
            "_view_count": null,
            "_view_module": "@jupyter-widgets/controls",
            "_view_module_version": "1.5.0",
            "_view_name": "HTMLView",
            "description": "",
            "description_tooltip": null,
            "layout": "IPY_MODEL_1d51da771e80425c8e14342345d91f9e",
            "placeholder": "​",
            "style": "IPY_MODEL_5d58082ce85142189e33377b197cb3e3",
            "value": " 1.78G/1.78G [00:16&lt;00:00, 143MiB/s]"
          }
        },
        "80219080a5b34ddf8976435085886025": {
          "model_module": "@jupyter-widgets/base",
          "model_name": "LayoutModel",
          "model_module_version": "1.2.0",
          "state": {
            "_model_module": "@jupyter-widgets/base",
            "_model_module_version": "1.2.0",
            "_model_name": "LayoutModel",
            "_view_count": null,
            "_view_module": "@jupyter-widgets/base",
            "_view_module_version": "1.2.0",
            "_view_name": "LayoutView",
            "align_content": null,
            "align_items": null,
            "align_self": null,
            "border": null,
            "bottom": null,
            "display": null,
            "flex": null,
            "flex_flow": null,
            "grid_area": null,
            "grid_auto_columns": null,
            "grid_auto_flow": null,
            "grid_auto_rows": null,
            "grid_column": null,
            "grid_gap": null,
            "grid_row": null,
            "grid_template_areas": null,
            "grid_template_columns": null,
            "grid_template_rows": null,
            "height": null,
            "justify_content": null,
            "justify_items": null,
            "left": null,
            "margin": null,
            "max_height": null,
            "max_width": null,
            "min_height": null,
            "min_width": null,
            "object_fit": null,
            "object_position": null,
            "order": null,
            "overflow": null,
            "overflow_x": null,
            "overflow_y": null,
            "padding": null,
            "right": null,
            "top": null,
            "visibility": null,
            "width": null
          }
        },
        "b446fe6aad184f3484a39c02ffed8963": {
          "model_module": "@jupyter-widgets/base",
          "model_name": "LayoutModel",
          "model_module_version": "1.2.0",
          "state": {
            "_model_module": "@jupyter-widgets/base",
            "_model_module_version": "1.2.0",
            "_model_name": "LayoutModel",
            "_view_count": null,
            "_view_module": "@jupyter-widgets/base",
            "_view_module_version": "1.2.0",
            "_view_name": "LayoutView",
            "align_content": null,
            "align_items": null,
            "align_self": null,
            "border": null,
            "bottom": null,
            "display": null,
            "flex": null,
            "flex_flow": null,
            "grid_area": null,
            "grid_auto_columns": null,
            "grid_auto_flow": null,
            "grid_auto_rows": null,
            "grid_column": null,
            "grid_gap": null,
            "grid_row": null,
            "grid_template_areas": null,
            "grid_template_columns": null,
            "grid_template_rows": null,
            "height": null,
            "justify_content": null,
            "justify_items": null,
            "left": null,
            "margin": null,
            "max_height": null,
            "max_width": null,
            "min_height": null,
            "min_width": null,
            "object_fit": null,
            "object_position": null,
            "order": null,
            "overflow": null,
            "overflow_x": null,
            "overflow_y": null,
            "padding": null,
            "right": null,
            "top": null,
            "visibility": null,
            "width": null
          }
        },
        "809c48c080be40ee95c778ec44392cac": {
          "model_module": "@jupyter-widgets/controls",
          "model_name": "DescriptionStyleModel",
          "model_module_version": "1.5.0",
          "state": {
            "_model_module": "@jupyter-widgets/controls",
            "_model_module_version": "1.5.0",
            "_model_name": "DescriptionStyleModel",
            "_view_count": null,
            "_view_module": "@jupyter-widgets/base",
            "_view_module_version": "1.2.0",
            "_view_name": "StyleView",
            "description_width": ""
          }
        },
        "0a492665978d4bd79b45e178f2754645": {
          "model_module": "@jupyter-widgets/base",
          "model_name": "LayoutModel",
          "model_module_version": "1.2.0",
          "state": {
            "_model_module": "@jupyter-widgets/base",
            "_model_module_version": "1.2.0",
            "_model_name": "LayoutModel",
            "_view_count": null,
            "_view_module": "@jupyter-widgets/base",
            "_view_module_version": "1.2.0",
            "_view_name": "LayoutView",
            "align_content": null,
            "align_items": null,
            "align_self": null,
            "border": null,
            "bottom": null,
            "display": null,
            "flex": null,
            "flex_flow": null,
            "grid_area": null,
            "grid_auto_columns": null,
            "grid_auto_flow": null,
            "grid_auto_rows": null,
            "grid_column": null,
            "grid_gap": null,
            "grid_row": null,
            "grid_template_areas": null,
            "grid_template_columns": null,
            "grid_template_rows": null,
            "height": null,
            "justify_content": null,
            "justify_items": null,
            "left": null,
            "margin": null,
            "max_height": null,
            "max_width": null,
            "min_height": null,
            "min_width": null,
            "object_fit": null,
            "object_position": null,
            "order": null,
            "overflow": null,
            "overflow_x": null,
            "overflow_y": null,
            "padding": null,
            "right": null,
            "top": null,
            "visibility": null,
            "width": null
          }
        },
        "827190bbca5f4c7e8179accbb9ffbf87": {
          "model_module": "@jupyter-widgets/controls",
          "model_name": "ProgressStyleModel",
          "model_module_version": "1.5.0",
          "state": {
            "_model_module": "@jupyter-widgets/controls",
            "_model_module_version": "1.5.0",
            "_model_name": "ProgressStyleModel",
            "_view_count": null,
            "_view_module": "@jupyter-widgets/base",
            "_view_module_version": "1.2.0",
            "_view_name": "StyleView",
            "bar_color": null,
            "description_width": ""
          }
        },
        "1d51da771e80425c8e14342345d91f9e": {
          "model_module": "@jupyter-widgets/base",
          "model_name": "LayoutModel",
          "model_module_version": "1.2.0",
          "state": {
            "_model_module": "@jupyter-widgets/base",
            "_model_module_version": "1.2.0",
            "_model_name": "LayoutModel",
            "_view_count": null,
            "_view_module": "@jupyter-widgets/base",
            "_view_module_version": "1.2.0",
            "_view_name": "LayoutView",
            "align_content": null,
            "align_items": null,
            "align_self": null,
            "border": null,
            "bottom": null,
            "display": null,
            "flex": null,
            "flex_flow": null,
            "grid_area": null,
            "grid_auto_columns": null,
            "grid_auto_flow": null,
            "grid_auto_rows": null,
            "grid_column": null,
            "grid_gap": null,
            "grid_row": null,
            "grid_template_areas": null,
            "grid_template_columns": null,
            "grid_template_rows": null,
            "height": null,
            "justify_content": null,
            "justify_items": null,
            "left": null,
            "margin": null,
            "max_height": null,
            "max_width": null,
            "min_height": null,
            "min_width": null,
            "object_fit": null,
            "object_position": null,
            "order": null,
            "overflow": null,
            "overflow_x": null,
            "overflow_y": null,
            "padding": null,
            "right": null,
            "top": null,
            "visibility": null,
            "width": null
          }
        },
        "5d58082ce85142189e33377b197cb3e3": {
          "model_module": "@jupyter-widgets/controls",
          "model_name": "DescriptionStyleModel",
          "model_module_version": "1.5.0",
          "state": {
            "_model_module": "@jupyter-widgets/controls",
            "_model_module_version": "1.5.0",
            "_model_name": "DescriptionStyleModel",
            "_view_count": null,
            "_view_module": "@jupyter-widgets/base",
            "_view_module_version": "1.2.0",
            "_view_name": "StyleView",
            "description_width": ""
          }
        },
        "76cc7d4322ee473d96ee79e51a9395b5": {
          "model_module": "@jupyter-widgets/controls",
          "model_name": "HBoxModel",
          "model_module_version": "1.5.0",
          "state": {
            "_dom_classes": [],
            "_model_module": "@jupyter-widgets/controls",
            "_model_module_version": "1.5.0",
            "_model_name": "HBoxModel",
            "_view_count": null,
            "_view_module": "@jupyter-widgets/controls",
            "_view_module_version": "1.5.0",
            "_view_name": "HBoxView",
            "box_style": "",
            "children": [
              "IPY_MODEL_7990db1f95804fab8fb503a7d7e96947",
              "IPY_MODEL_20d224353cbc4e95b8094a344eaccde4",
              "IPY_MODEL_6798f1224cac468f9ca70e62cc2d5621"
            ],
            "layout": "IPY_MODEL_6075c9c686d04261807ebf0348b8f599"
          }
        },
        "7990db1f95804fab8fb503a7d7e96947": {
          "model_module": "@jupyter-widgets/controls",
          "model_name": "HTMLModel",
          "model_module_version": "1.5.0",
          "state": {
            "_dom_classes": [],
            "_model_module": "@jupyter-widgets/controls",
            "_model_module_version": "1.5.0",
            "_model_name": "HTMLModel",
            "_view_count": null,
            "_view_module": "@jupyter-widgets/controls",
            "_view_module_version": "1.5.0",
            "_view_name": "HTMLView",
            "description": "",
            "description_tooltip": null,
            "layout": "IPY_MODEL_558c8d2749f84d3797398e89e284b65c",
            "placeholder": "​",
            "style": "IPY_MODEL_6b8bb83dc79d4de4923b6c4f244cf262",
            "value": "100%"
          }
        },
        "20d224353cbc4e95b8094a344eaccde4": {
          "model_module": "@jupyter-widgets/controls",
          "model_name": "FloatProgressModel",
          "model_module_version": "1.5.0",
          "state": {
            "_dom_classes": [],
            "_model_module": "@jupyter-widgets/controls",
            "_model_module_version": "1.5.0",
            "_model_name": "FloatProgressModel",
            "_view_count": null,
            "_view_module": "@jupyter-widgets/controls",
            "_view_module_version": "1.5.0",
            "_view_name": "ProgressView",
            "bar_style": "success",
            "description": "",
            "description_tooltip": null,
            "layout": "IPY_MODEL_7b7b18dd17334001adf028cb740aad93",
            "max": 1262868003,
            "min": 0,
            "orientation": "horizontal",
            "style": "IPY_MODEL_0d8a61269ebf48088790202ebc160978",
            "value": 1262868003
          }
        },
        "6798f1224cac468f9ca70e62cc2d5621": {
          "model_module": "@jupyter-widgets/controls",
          "model_name": "HTMLModel",
          "model_module_version": "1.5.0",
          "state": {
            "_dom_classes": [],
            "_model_module": "@jupyter-widgets/controls",
            "_model_module_version": "1.5.0",
            "_model_name": "HTMLModel",
            "_view_count": null,
            "_view_module": "@jupyter-widgets/controls",
            "_view_module_version": "1.5.0",
            "_view_name": "HTMLView",
            "description": "",
            "description_tooltip": null,
            "layout": "IPY_MODEL_078dee41191548b3b3e016e6dc6179e7",
            "placeholder": "​",
            "style": "IPY_MODEL_869801a67aca46daaa07f8f3a7f0230b",
            "value": " 1.26G/1.26G [00:25&lt;00:00, 51.5MiB/s]"
          }
        },
        "6075c9c686d04261807ebf0348b8f599": {
          "model_module": "@jupyter-widgets/base",
          "model_name": "LayoutModel",
          "model_module_version": "1.2.0",
          "state": {
            "_model_module": "@jupyter-widgets/base",
            "_model_module_version": "1.2.0",
            "_model_name": "LayoutModel",
            "_view_count": null,
            "_view_module": "@jupyter-widgets/base",
            "_view_module_version": "1.2.0",
            "_view_name": "LayoutView",
            "align_content": null,
            "align_items": null,
            "align_self": null,
            "border": null,
            "bottom": null,
            "display": null,
            "flex": null,
            "flex_flow": null,
            "grid_area": null,
            "grid_auto_columns": null,
            "grid_auto_flow": null,
            "grid_auto_rows": null,
            "grid_column": null,
            "grid_gap": null,
            "grid_row": null,
            "grid_template_areas": null,
            "grid_template_columns": null,
            "grid_template_rows": null,
            "height": null,
            "justify_content": null,
            "justify_items": null,
            "left": null,
            "margin": null,
            "max_height": null,
            "max_width": null,
            "min_height": null,
            "min_width": null,
            "object_fit": null,
            "object_position": null,
            "order": null,
            "overflow": null,
            "overflow_x": null,
            "overflow_y": null,
            "padding": null,
            "right": null,
            "top": null,
            "visibility": null,
            "width": null
          }
        },
        "558c8d2749f84d3797398e89e284b65c": {
          "model_module": "@jupyter-widgets/base",
          "model_name": "LayoutModel",
          "model_module_version": "1.2.0",
          "state": {
            "_model_module": "@jupyter-widgets/base",
            "_model_module_version": "1.2.0",
            "_model_name": "LayoutModel",
            "_view_count": null,
            "_view_module": "@jupyter-widgets/base",
            "_view_module_version": "1.2.0",
            "_view_name": "LayoutView",
            "align_content": null,
            "align_items": null,
            "align_self": null,
            "border": null,
            "bottom": null,
            "display": null,
            "flex": null,
            "flex_flow": null,
            "grid_area": null,
            "grid_auto_columns": null,
            "grid_auto_flow": null,
            "grid_auto_rows": null,
            "grid_column": null,
            "grid_gap": null,
            "grid_row": null,
            "grid_template_areas": null,
            "grid_template_columns": null,
            "grid_template_rows": null,
            "height": null,
            "justify_content": null,
            "justify_items": null,
            "left": null,
            "margin": null,
            "max_height": null,
            "max_width": null,
            "min_height": null,
            "min_width": null,
            "object_fit": null,
            "object_position": null,
            "order": null,
            "overflow": null,
            "overflow_x": null,
            "overflow_y": null,
            "padding": null,
            "right": null,
            "top": null,
            "visibility": null,
            "width": null
          }
        },
        "6b8bb83dc79d4de4923b6c4f244cf262": {
          "model_module": "@jupyter-widgets/controls",
          "model_name": "DescriptionStyleModel",
          "model_module_version": "1.5.0",
          "state": {
            "_model_module": "@jupyter-widgets/controls",
            "_model_module_version": "1.5.0",
            "_model_name": "DescriptionStyleModel",
            "_view_count": null,
            "_view_module": "@jupyter-widgets/base",
            "_view_module_version": "1.2.0",
            "_view_name": "StyleView",
            "description_width": ""
          }
        },
        "7b7b18dd17334001adf028cb740aad93": {
          "model_module": "@jupyter-widgets/base",
          "model_name": "LayoutModel",
          "model_module_version": "1.2.0",
          "state": {
            "_model_module": "@jupyter-widgets/base",
            "_model_module_version": "1.2.0",
            "_model_name": "LayoutModel",
            "_view_count": null,
            "_view_module": "@jupyter-widgets/base",
            "_view_module_version": "1.2.0",
            "_view_name": "LayoutView",
            "align_content": null,
            "align_items": null,
            "align_self": null,
            "border": null,
            "bottom": null,
            "display": null,
            "flex": null,
            "flex_flow": null,
            "grid_area": null,
            "grid_auto_columns": null,
            "grid_auto_flow": null,
            "grid_auto_rows": null,
            "grid_column": null,
            "grid_gap": null,
            "grid_row": null,
            "grid_template_areas": null,
            "grid_template_columns": null,
            "grid_template_rows": null,
            "height": null,
            "justify_content": null,
            "justify_items": null,
            "left": null,
            "margin": null,
            "max_height": null,
            "max_width": null,
            "min_height": null,
            "min_width": null,
            "object_fit": null,
            "object_position": null,
            "order": null,
            "overflow": null,
            "overflow_x": null,
            "overflow_y": null,
            "padding": null,
            "right": null,
            "top": null,
            "visibility": null,
            "width": null
          }
        },
        "0d8a61269ebf48088790202ebc160978": {
          "model_module": "@jupyter-widgets/controls",
          "model_name": "ProgressStyleModel",
          "model_module_version": "1.5.0",
          "state": {
            "_model_module": "@jupyter-widgets/controls",
            "_model_module_version": "1.5.0",
            "_model_name": "ProgressStyleModel",
            "_view_count": null,
            "_view_module": "@jupyter-widgets/base",
            "_view_module_version": "1.2.0",
            "_view_name": "StyleView",
            "bar_color": null,
            "description_width": ""
          }
        },
        "078dee41191548b3b3e016e6dc6179e7": {
          "model_module": "@jupyter-widgets/base",
          "model_name": "LayoutModel",
          "model_module_version": "1.2.0",
          "state": {
            "_model_module": "@jupyter-widgets/base",
            "_model_module_version": "1.2.0",
            "_model_name": "LayoutModel",
            "_view_count": null,
            "_view_module": "@jupyter-widgets/base",
            "_view_module_version": "1.2.0",
            "_view_name": "LayoutView",
            "align_content": null,
            "align_items": null,
            "align_self": null,
            "border": null,
            "bottom": null,
            "display": null,
            "flex": null,
            "flex_flow": null,
            "grid_area": null,
            "grid_auto_columns": null,
            "grid_auto_flow": null,
            "grid_auto_rows": null,
            "grid_column": null,
            "grid_gap": null,
            "grid_row": null,
            "grid_template_areas": null,
            "grid_template_columns": null,
            "grid_template_rows": null,
            "height": null,
            "justify_content": null,
            "justify_items": null,
            "left": null,
            "margin": null,
            "max_height": null,
            "max_width": null,
            "min_height": null,
            "min_width": null,
            "object_fit": null,
            "object_position": null,
            "order": null,
            "overflow": null,
            "overflow_x": null,
            "overflow_y": null,
            "padding": null,
            "right": null,
            "top": null,
            "visibility": null,
            "width": null
          }
        },
        "869801a67aca46daaa07f8f3a7f0230b": {
          "model_module": "@jupyter-widgets/controls",
          "model_name": "DescriptionStyleModel",
          "model_module_version": "1.5.0",
          "state": {
            "_model_module": "@jupyter-widgets/controls",
            "_model_module_version": "1.5.0",
            "_model_name": "DescriptionStyleModel",
            "_view_count": null,
            "_view_module": "@jupyter-widgets/base",
            "_view_module_version": "1.2.0",
            "_view_name": "StyleView",
            "description_width": ""
          }
        },
        "e9a5e68e5e194cb1b8e95dd54b6f7302": {
          "model_module": "@jupyter-widgets/controls",
          "model_name": "HBoxModel",
          "model_module_version": "1.5.0",
          "state": {
            "_dom_classes": [],
            "_model_module": "@jupyter-widgets/controls",
            "_model_module_version": "1.5.0",
            "_model_name": "HBoxModel",
            "_view_count": null,
            "_view_module": "@jupyter-widgets/controls",
            "_view_module_version": "1.5.0",
            "_view_name": "HBoxView",
            "box_style": "",
            "children": [
              "IPY_MODEL_e058ac0647ae4186acce8cdf11b030ce",
              "IPY_MODEL_5ef784a7ccf045b4aa751e797d491501",
              "IPY_MODEL_c3bdb425a12c4afebec02e926b000531"
            ],
            "layout": "IPY_MODEL_b7e84ad3b1e34aad85dd68a0b8663af2"
          }
        },
        "e058ac0647ae4186acce8cdf11b030ce": {
          "model_module": "@jupyter-widgets/controls",
          "model_name": "HTMLModel",
          "model_module_version": "1.5.0",
          "state": {
            "_dom_classes": [],
            "_model_module": "@jupyter-widgets/controls",
            "_model_module_version": "1.5.0",
            "_model_name": "HTMLModel",
            "_view_count": null,
            "_view_module": "@jupyter-widgets/controls",
            "_view_module_version": "1.5.0",
            "_view_name": "HTMLView",
            "description": "",
            "description_tooltip": null,
            "layout": "IPY_MODEL_6a7347ef1aec46369dd265cf4b25ecdf",
            "placeholder": "​",
            "style": "IPY_MODEL_a0776643f69844ad91692e90df50bf9e",
            "value": "100%"
          }
        },
        "5ef784a7ccf045b4aa751e797d491501": {
          "model_module": "@jupyter-widgets/controls",
          "model_name": "FloatProgressModel",
          "model_module_version": "1.5.0",
          "state": {
            "_dom_classes": [],
            "_model_module": "@jupyter-widgets/controls",
            "_model_module_version": "1.5.0",
            "_model_name": "FloatProgressModel",
            "_view_count": null,
            "_view_module": "@jupyter-widgets/controls",
            "_view_module_version": "1.5.0",
            "_view_name": "ProgressView",
            "bar_style": "success",
            "description": "",
            "description_tooltip": null,
            "layout": "IPY_MODEL_3ad0504840f14b8abd0f17dda2c54c4c",
            "max": 64,
            "min": 0,
            "orientation": "horizontal",
            "style": "IPY_MODEL_31400b88e9f3454bbcca76afc09260a1",
            "value": 64
          }
        },
        "c3bdb425a12c4afebec02e926b000531": {
          "model_module": "@jupyter-widgets/controls",
          "model_name": "HTMLModel",
          "model_module_version": "1.5.0",
          "state": {
            "_dom_classes": [],
            "_model_module": "@jupyter-widgets/controls",
            "_model_module_version": "1.5.0",
            "_model_name": "HTMLModel",
            "_view_count": null,
            "_view_module": "@jupyter-widgets/controls",
            "_view_module_version": "1.5.0",
            "_view_name": "HTMLView",
            "description": "",
            "description_tooltip": null,
            "layout": "IPY_MODEL_b336195ab1ae4f3ca5825a9af97b9ff9",
            "placeholder": "​",
            "style": "IPY_MODEL_ced3710292b6402fabda3c0eeebd49f4",
            "value": " 64/64 [01:48&lt;00:00,  1.45s/it]"
          }
        },
        "b7e84ad3b1e34aad85dd68a0b8663af2": {
          "model_module": "@jupyter-widgets/base",
          "model_name": "LayoutModel",
          "model_module_version": "1.2.0",
          "state": {
            "_model_module": "@jupyter-widgets/base",
            "_model_module_version": "1.2.0",
            "_model_name": "LayoutModel",
            "_view_count": null,
            "_view_module": "@jupyter-widgets/base",
            "_view_module_version": "1.2.0",
            "_view_name": "LayoutView",
            "align_content": null,
            "align_items": null,
            "align_self": null,
            "border": null,
            "bottom": null,
            "display": null,
            "flex": null,
            "flex_flow": null,
            "grid_area": null,
            "grid_auto_columns": null,
            "grid_auto_flow": null,
            "grid_auto_rows": null,
            "grid_column": null,
            "grid_gap": null,
            "grid_row": null,
            "grid_template_areas": null,
            "grid_template_columns": null,
            "grid_template_rows": null,
            "height": null,
            "justify_content": null,
            "justify_items": null,
            "left": null,
            "margin": null,
            "max_height": null,
            "max_width": null,
            "min_height": null,
            "min_width": null,
            "object_fit": null,
            "object_position": null,
            "order": null,
            "overflow": null,
            "overflow_x": null,
            "overflow_y": null,
            "padding": null,
            "right": null,
            "top": null,
            "visibility": null,
            "width": null
          }
        },
        "6a7347ef1aec46369dd265cf4b25ecdf": {
          "model_module": "@jupyter-widgets/base",
          "model_name": "LayoutModel",
          "model_module_version": "1.2.0",
          "state": {
            "_model_module": "@jupyter-widgets/base",
            "_model_module_version": "1.2.0",
            "_model_name": "LayoutModel",
            "_view_count": null,
            "_view_module": "@jupyter-widgets/base",
            "_view_module_version": "1.2.0",
            "_view_name": "LayoutView",
            "align_content": null,
            "align_items": null,
            "align_self": null,
            "border": null,
            "bottom": null,
            "display": null,
            "flex": null,
            "flex_flow": null,
            "grid_area": null,
            "grid_auto_columns": null,
            "grid_auto_flow": null,
            "grid_auto_rows": null,
            "grid_column": null,
            "grid_gap": null,
            "grid_row": null,
            "grid_template_areas": null,
            "grid_template_columns": null,
            "grid_template_rows": null,
            "height": null,
            "justify_content": null,
            "justify_items": null,
            "left": null,
            "margin": null,
            "max_height": null,
            "max_width": null,
            "min_height": null,
            "min_width": null,
            "object_fit": null,
            "object_position": null,
            "order": null,
            "overflow": null,
            "overflow_x": null,
            "overflow_y": null,
            "padding": null,
            "right": null,
            "top": null,
            "visibility": null,
            "width": null
          }
        },
        "a0776643f69844ad91692e90df50bf9e": {
          "model_module": "@jupyter-widgets/controls",
          "model_name": "DescriptionStyleModel",
          "model_module_version": "1.5.0",
          "state": {
            "_model_module": "@jupyter-widgets/controls",
            "_model_module_version": "1.5.0",
            "_model_name": "DescriptionStyleModel",
            "_view_count": null,
            "_view_module": "@jupyter-widgets/base",
            "_view_module_version": "1.2.0",
            "_view_name": "StyleView",
            "description_width": ""
          }
        },
        "3ad0504840f14b8abd0f17dda2c54c4c": {
          "model_module": "@jupyter-widgets/base",
          "model_name": "LayoutModel",
          "model_module_version": "1.2.0",
          "state": {
            "_model_module": "@jupyter-widgets/base",
            "_model_module_version": "1.2.0",
            "_model_name": "LayoutModel",
            "_view_count": null,
            "_view_module": "@jupyter-widgets/base",
            "_view_module_version": "1.2.0",
            "_view_name": "LayoutView",
            "align_content": null,
            "align_items": null,
            "align_self": null,
            "border": null,
            "bottom": null,
            "display": null,
            "flex": null,
            "flex_flow": null,
            "grid_area": null,
            "grid_auto_columns": null,
            "grid_auto_flow": null,
            "grid_auto_rows": null,
            "grid_column": null,
            "grid_gap": null,
            "grid_row": null,
            "grid_template_areas": null,
            "grid_template_columns": null,
            "grid_template_rows": null,
            "height": null,
            "justify_content": null,
            "justify_items": null,
            "left": null,
            "margin": null,
            "max_height": null,
            "max_width": null,
            "min_height": null,
            "min_width": null,
            "object_fit": null,
            "object_position": null,
            "order": null,
            "overflow": null,
            "overflow_x": null,
            "overflow_y": null,
            "padding": null,
            "right": null,
            "top": null,
            "visibility": null,
            "width": null
          }
        },
        "31400b88e9f3454bbcca76afc09260a1": {
          "model_module": "@jupyter-widgets/controls",
          "model_name": "ProgressStyleModel",
          "model_module_version": "1.5.0",
          "state": {
            "_model_module": "@jupyter-widgets/controls",
            "_model_module_version": "1.5.0",
            "_model_name": "ProgressStyleModel",
            "_view_count": null,
            "_view_module": "@jupyter-widgets/base",
            "_view_module_version": "1.2.0",
            "_view_name": "StyleView",
            "bar_color": null,
            "description_width": ""
          }
        },
        "b336195ab1ae4f3ca5825a9af97b9ff9": {
          "model_module": "@jupyter-widgets/base",
          "model_name": "LayoutModel",
          "model_module_version": "1.2.0",
          "state": {
            "_model_module": "@jupyter-widgets/base",
            "_model_module_version": "1.2.0",
            "_model_name": "LayoutModel",
            "_view_count": null,
            "_view_module": "@jupyter-widgets/base",
            "_view_module_version": "1.2.0",
            "_view_name": "LayoutView",
            "align_content": null,
            "align_items": null,
            "align_self": null,
            "border": null,
            "bottom": null,
            "display": null,
            "flex": null,
            "flex_flow": null,
            "grid_area": null,
            "grid_auto_columns": null,
            "grid_auto_flow": null,
            "grid_auto_rows": null,
            "grid_column": null,
            "grid_gap": null,
            "grid_row": null,
            "grid_template_areas": null,
            "grid_template_columns": null,
            "grid_template_rows": null,
            "height": null,
            "justify_content": null,
            "justify_items": null,
            "left": null,
            "margin": null,
            "max_height": null,
            "max_width": null,
            "min_height": null,
            "min_width": null,
            "object_fit": null,
            "object_position": null,
            "order": null,
            "overflow": null,
            "overflow_x": null,
            "overflow_y": null,
            "padding": null,
            "right": null,
            "top": null,
            "visibility": null,
            "width": null
          }
        },
        "ced3710292b6402fabda3c0eeebd49f4": {
          "model_module": "@jupyter-widgets/controls",
          "model_name": "DescriptionStyleModel",
          "model_module_version": "1.5.0",
          "state": {
            "_model_module": "@jupyter-widgets/controls",
            "_model_module_version": "1.5.0",
            "_model_name": "DescriptionStyleModel",
            "_view_count": null,
            "_view_module": "@jupyter-widgets/base",
            "_view_module_version": "1.2.0",
            "_view_name": "StyleView",
            "description_width": ""
          }
        },
        "008263554bde4e6e91cde167995b50a2": {
          "model_module": "@jupyter-widgets/controls",
          "model_name": "HTMLModel",
          "model_module_version": "1.5.0",
          "state": {
            "_dom_classes": [],
            "_model_module": "@jupyter-widgets/controls",
            "_model_module_version": "1.5.0",
            "_model_name": "HTMLModel",
            "_view_count": null,
            "_view_module": "@jupyter-widgets/controls",
            "_view_module_version": "1.5.0",
            "_view_name": "HTMLView",
            "description": "",
            "description_tooltip": null,
            "layout": "IPY_MODEL_ed29116852a24bb9ae6cacf8b68d3440",
            "placeholder": "​",
            "style": "IPY_MODEL_76e415a017e9415c921ed98107154398",
            "value": "<img src=\"data:image/gif;base64,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\" />"
          }
        },
        "ed29116852a24bb9ae6cacf8b68d3440": {
          "model_module": "@jupyter-widgets/base",
          "model_name": "LayoutModel",
          "model_module_version": "1.2.0",
          "state": {
            "_model_module": "@jupyter-widgets/base",
            "_model_module_version": "1.2.0",
            "_model_name": "LayoutModel",
            "_view_count": null,
            "_view_module": "@jupyter-widgets/base",
            "_view_module_version": "1.2.0",
            "_view_name": "LayoutView",
            "align_content": null,
            "align_items": null,
            "align_self": null,
            "border": null,
            "bottom": null,
            "display": null,
            "flex": null,
            "flex_flow": null,
            "grid_area": null,
            "grid_auto_columns": null,
            "grid_auto_flow": null,
            "grid_auto_rows": null,
            "grid_column": null,
            "grid_gap": null,
            "grid_row": null,
            "grid_template_areas": null,
            "grid_template_columns": null,
            "grid_template_rows": null,
            "height": null,
            "justify_content": null,
            "justify_items": null,
            "left": null,
            "margin": null,
            "max_height": null,
            "max_width": null,
            "min_height": null,
            "min_width": null,
            "object_fit": null,
            "object_position": null,
            "order": null,
            "overflow": null,
            "overflow_x": null,
            "overflow_y": null,
            "padding": null,
            "right": null,
            "top": null,
            "visibility": null,
            "width": null
          }
        },
        "76e415a017e9415c921ed98107154398": {
          "model_module": "@jupyter-widgets/controls",
          "model_name": "DescriptionStyleModel",
          "model_module_version": "1.5.0",
          "state": {
            "_model_module": "@jupyter-widgets/controls",
            "_model_module_version": "1.5.0",
            "_model_name": "DescriptionStyleModel",
            "_view_count": null,
            "_view_module": "@jupyter-widgets/base",
            "_view_module_version": "1.2.0",
            "_view_name": "StyleView",
            "description_width": ""
          }
        },
        "f42c55dabad04ff883f526afd766046d": {
          "model_module": "@jupyter-widgets/controls",
          "model_name": "HTMLModel",
          "model_module_version": "1.5.0",
          "state": {
            "_dom_classes": [],
            "_model_module": "@jupyter-widgets/controls",
            "_model_module_version": "1.5.0",
            "_model_name": "HTMLModel",
            "_view_count": null,
            "_view_module": "@jupyter-widgets/controls",
            "_view_module_version": "1.5.0",
            "_view_name": "HTMLView",
            "description": "",
            "description_tooltip": null,
            "layout": "IPY_MODEL_702f352086584b459b536d09bd7c984f",
            "placeholder": "​",
            "style": "IPY_MODEL_df5403f526784b92b20f819d718522df",
            "value": "<img src=\"data:image/gif;base64,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\" />"
          }
        },
        "702f352086584b459b536d09bd7c984f": {
          "model_module": "@jupyter-widgets/base",
          "model_name": "LayoutModel",
          "model_module_version": "1.2.0",
          "state": {
            "_model_module": "@jupyter-widgets/base",
            "_model_module_version": "1.2.0",
            "_model_name": "LayoutModel",
            "_view_count": null,
            "_view_module": "@jupyter-widgets/base",
            "_view_module_version": "1.2.0",
            "_view_name": "LayoutView",
            "align_content": null,
            "align_items": null,
            "align_self": null,
            "border": null,
            "bottom": null,
            "display": null,
            "flex": null,
            "flex_flow": null,
            "grid_area": null,
            "grid_auto_columns": null,
            "grid_auto_flow": null,
            "grid_auto_rows": null,
            "grid_column": null,
            "grid_gap": null,
            "grid_row": null,
            "grid_template_areas": null,
            "grid_template_columns": null,
            "grid_template_rows": null,
            "height": null,
            "justify_content": null,
            "justify_items": null,
            "left": null,
            "margin": null,
            "max_height": null,
            "max_width": null,
            "min_height": null,
            "min_width": null,
            "object_fit": null,
            "object_position": null,
            "order": null,
            "overflow": null,
            "overflow_x": null,
            "overflow_y": null,
            "padding": null,
            "right": null,
            "top": null,
            "visibility": null,
            "width": null
          }
        },
        "df5403f526784b92b20f819d718522df": {
          "model_module": "@jupyter-widgets/controls",
          "model_name": "DescriptionStyleModel",
          "model_module_version": "1.5.0",
          "state": {
            "_model_module": "@jupyter-widgets/controls",
            "_model_module_version": "1.5.0",
            "_model_name": "DescriptionStyleModel",
            "_view_count": null,
            "_view_module": "@jupyter-widgets/base",
            "_view_module_version": "1.2.0",
            "_view_name": "StyleView",
            "description_width": ""
          }
        },
        "66c99422f6414b6083f2daa373dbc6dd": {
          "model_module": "@jupyter-widgets/controls",
          "model_name": "HTMLModel",
          "model_module_version": "1.5.0",
          "state": {
            "_dom_classes": [],
            "_model_module": "@jupyter-widgets/controls",
            "_model_module_version": "1.5.0",
            "_model_name": "HTMLModel",
            "_view_count": null,
            "_view_module": "@jupyter-widgets/controls",
            "_view_module_version": "1.5.0",
            "_view_name": "HTMLView",
            "description": "",
            "description_tooltip": null,
            "layout": "IPY_MODEL_03d778b0ab9e44f2b7f04dfd793b5505",
            "placeholder": "​",
            "style": "IPY_MODEL_345f005cee014ceab1b023d637ae9731",
            "value": "<img src=\"data:image/gif;base64,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\" />"
          }
        },
        "03d778b0ab9e44f2b7f04dfd793b5505": {
          "model_module": "@jupyter-widgets/base",
          "model_name": "LayoutModel",
          "model_module_version": "1.2.0",
          "state": {
            "_model_module": "@jupyter-widgets/base",
            "_model_module_version": "1.2.0",
            "_model_name": "LayoutModel",
            "_view_count": null,
            "_view_module": "@jupyter-widgets/base",
            "_view_module_version": "1.2.0",
            "_view_name": "LayoutView",
            "align_content": null,
            "align_items": null,
            "align_self": null,
            "border": null,
            "bottom": null,
            "display": null,
            "flex": null,
            "flex_flow": null,
            "grid_area": null,
            "grid_auto_columns": null,
            "grid_auto_flow": null,
            "grid_auto_rows": null,
            "grid_column": null,
            "grid_gap": null,
            "grid_row": null,
            "grid_template_areas": null,
            "grid_template_columns": null,
            "grid_template_rows": null,
            "height": null,
            "justify_content": null,
            "justify_items": null,
            "left": null,
            "margin": null,
            "max_height": null,
            "max_width": null,
            "min_height": null,
            "min_width": null,
            "object_fit": null,
            "object_position": null,
            "order": null,
            "overflow": null,
            "overflow_x": null,
            "overflow_y": null,
            "padding": null,
            "right": null,
            "top": null,
            "visibility": null,
            "width": null
          }
        },
        "345f005cee014ceab1b023d637ae9731": {
          "model_module": "@jupyter-widgets/controls",
          "model_name": "DescriptionStyleModel",
          "model_module_version": "1.5.0",
          "state": {
            "_model_module": "@jupyter-widgets/controls",
            "_model_module_version": "1.5.0",
            "_model_name": "DescriptionStyleModel",
            "_view_count": null,
            "_view_module": "@jupyter-widgets/base",
            "_view_module_version": "1.2.0",
            "_view_name": "StyleView",
            "description_width": ""
          }
        },
        "9150ab9028d0484ea5eec37a7103544e": {
          "model_module": "@jupyter-widgets/controls",
          "model_name": "HTMLModel",
          "model_module_version": "1.5.0",
          "state": {
            "_dom_classes": [],
            "_model_module": "@jupyter-widgets/controls",
            "_model_module_version": "1.5.0",
            "_model_name": "HTMLModel",
            "_view_count": null,
            "_view_module": "@jupyter-widgets/controls",
            "_view_module_version": "1.5.0",
            "_view_name": "HTMLView",
            "description": "",
            "description_tooltip": null,
            "layout": "IPY_MODEL_83ad790028a749eba4558cc838989914",
            "placeholder": "​",
            "style": "IPY_MODEL_2e1874799fa040c4917d57ad5b7fa85e",
            "value": "<img src=\"data:image/gif;base64,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\" />"
          }
        },
        "83ad790028a749eba4558cc838989914": {
          "model_module": "@jupyter-widgets/base",
          "model_name": "LayoutModel",
          "model_module_version": "1.2.0",
          "state": {
            "_model_module": "@jupyter-widgets/base",
            "_model_module_version": "1.2.0",
            "_model_name": "LayoutModel",
            "_view_count": null,
            "_view_module": "@jupyter-widgets/base",
            "_view_module_version": "1.2.0",
            "_view_name": "LayoutView",
            "align_content": null,
            "align_items": null,
            "align_self": null,
            "border": null,
            "bottom": null,
            "display": null,
            "flex": null,
            "flex_flow": null,
            "grid_area": null,
            "grid_auto_columns": null,
            "grid_auto_flow": null,
            "grid_auto_rows": null,
            "grid_column": null,
            "grid_gap": null,
            "grid_row": null,
            "grid_template_areas": null,
            "grid_template_columns": null,
            "grid_template_rows": null,
            "height": null,
            "justify_content": null,
            "justify_items": null,
            "left": null,
            "margin": null,
            "max_height": null,
            "max_width": null,
            "min_height": null,
            "min_width": null,
            "object_fit": null,
            "object_position": null,
            "order": null,
            "overflow": null,
            "overflow_x": null,
            "overflow_y": null,
            "padding": null,
            "right": null,
            "top": null,
            "visibility": null,
            "width": null
          }
        },
        "2e1874799fa040c4917d57ad5b7fa85e": {
          "model_module": "@jupyter-widgets/controls",
          "model_name": "DescriptionStyleModel",
          "model_module_version": "1.5.0",
          "state": {
            "_model_module": "@jupyter-widgets/controls",
            "_model_module_version": "1.5.0",
            "_model_name": "DescriptionStyleModel",
            "_view_count": null,
            "_view_module": "@jupyter-widgets/base",
            "_view_module_version": "1.2.0",
            "_view_name": "StyleView",
            "description_width": ""
          }
        }
      }
    }
  },
  "cells": [
    {
      "cell_type": "markdown",
      "metadata": {
        "id": "view-in-github",
        "colab_type": "text"
      },
      "source": [
        "<a href=\"https://colab.research.google.com/github/csdnak/McPython/blob/master/SHAP_E_Text_to_3D.ipynb\" target=\"_parent\"><img src=\"https://colab.research.google.com/assets/colab-badge.svg\" alt=\"Open In Colab\"/></a>"
      ]
    },
    {
      "cell_type": "code",
      "execution_count": 8,
      "metadata": {
        "colab": {
          "base_uri": "https://localhost:8080/"
        },
        "id": "A07fkSE80Fr_",
        "outputId": "484fb7a2-876e-4636-83e7-f1410320369d"
      },
      "outputs": [
        {
          "output_type": "stream",
          "name": "stdout",
          "text": [
            "Cloning into 'shap-e'...\n",
            "remote: Enumerating objects: 322, done.\u001b[K\n",
            "remote: Counting objects: 100% (44/44), done.\u001b[K\n",
            "remote: Compressing objects: 100% (31/31), done.\u001b[K\n",
            "remote: Total 322 (delta 29), reused 13 (delta 13), pack-reused 278\u001b[K\n",
            "Receiving objects: 100% (322/322), 11.71 MiB | 15.23 MiB/s, done.\n",
            "Resolving deltas: 100% (45/45), done.\n"
          ]
        }
      ],
      "source": [
        "!git clone https://github.com/openai/shap-e"
      ]
    },
    {
      "cell_type": "code",
      "source": [
        "%cd shap-e"
      ],
      "metadata": {
        "colab": {
          "base_uri": "https://localhost:8080/"
        },
        "id": "eSUrOeSF0RC1",
        "outputId": "2dd71950-d064-4086-8ce7-ecb39dca9bae"
      },
      "execution_count": 9,
      "outputs": [
        {
          "output_type": "stream",
          "name": "stdout",
          "text": [
            "/content/shap-e\n"
          ]
        }
      ]
    },
    {
      "cell_type": "code",
      "source": [
        "!pip install -e ."
      ],
      "metadata": {
        "colab": {
          "base_uri": "https://localhost:8080/"
        },
        "id": "7-fLWame0qJw",
        "outputId": "7c5d8275-6bd5-419f-bfb3-66ab7055f313"
      },
      "execution_count": 10,
      "outputs": [
        {
          "output_type": "stream",
          "name": "stdout",
          "text": [
            "Looking in indexes: https://pypi.org/simple, https://us-python.pkg.dev/colab-wheels/public/simple/\n",
            "Obtaining file:///content/shap-e\n",
            "  Preparing metadata (setup.py) ... \u001b[?25l\u001b[?25hdone\n",
            "Collecting clip@ git+https://github.com/openai/CLIP.git (from shap-e==0.0.0)\n",
            "  Cloning https://github.com/openai/CLIP.git to /tmp/pip-install-8m2465ls/clip_9846f4f0d8da44cca8a1540556b11f10\n",
            "  Running command git clone --filter=blob:none --quiet https://github.com/openai/CLIP.git /tmp/pip-install-8m2465ls/clip_9846f4f0d8da44cca8a1540556b11f10\n",
            "  Resolved https://github.com/openai/CLIP.git to commit a9b1bf5920416aaeaec965c25dd9e8f98c864f16\n",
            "  Preparing metadata (setup.py) ... \u001b[?25l\u001b[?25hdone\n",
            "Requirement already satisfied: filelock in /usr/local/lib/python3.10/dist-packages (from shap-e==0.0.0) (3.12.0)\n",
            "Requirement already satisfied: Pillow in /usr/local/lib/python3.10/dist-packages (from shap-e==0.0.0) (8.4.0)\n",
            "Requirement already satisfied: torch in /usr/local/lib/python3.10/dist-packages (from shap-e==0.0.0) (2.0.0+cu118)\n",
            "Collecting fire (from shap-e==0.0.0)\n",
            "  Downloading fire-0.5.0.tar.gz (88 kB)\n",
            "\u001b[2K     \u001b[90m━━━━━━━━━━━━━━━━━━━━━━━━━━━━━━━━━━━━━━━━\u001b[0m \u001b[32m88.3/88.3 kB\u001b[0m \u001b[31m3.8 MB/s\u001b[0m eta \u001b[36m0:00:00\u001b[0m\n",
            "\u001b[?25h  Preparing metadata (setup.py) ... \u001b[?25l\u001b[?25hdone\n",
            "Requirement already satisfied: humanize in /usr/local/lib/python3.10/dist-packages (from shap-e==0.0.0) (4.6.0)\n",
            "Requirement already satisfied: requests in /usr/local/lib/python3.10/dist-packages (from shap-e==0.0.0) (2.27.1)\n",
            "Requirement already satisfied: tqdm in /usr/local/lib/python3.10/dist-packages (from shap-e==0.0.0) (4.65.0)\n",
            "Requirement already satisfied: matplotlib in /usr/local/lib/python3.10/dist-packages (from shap-e==0.0.0) (3.7.1)\n",
            "Requirement already satisfied: scikit-image in /usr/local/lib/python3.10/dist-packages (from shap-e==0.0.0) (0.19.3)\n",
            "Requirement already satisfied: scipy in /usr/local/lib/python3.10/dist-packages (from shap-e==0.0.0) (1.10.1)\n",
            "Requirement already satisfied: numpy in /usr/local/lib/python3.10/dist-packages (from shap-e==0.0.0) (1.22.4)\n",
            "Collecting blobfile (from shap-e==0.0.0)\n",
            "  Downloading blobfile-2.0.2-py3-none-any.whl (74 kB)\n",
            "\u001b[2K     \u001b[90m━━━━━━━━━━━━━━━━━━━━━━━━━━━━━━━━━━━━━━━━\u001b[0m \u001b[32m74.5/74.5 kB\u001b[0m \u001b[31m9.0 MB/s\u001b[0m eta \u001b[36m0:00:00\u001b[0m\n",
            "\u001b[?25hCollecting pycryptodomex~=3.8 (from blobfile->shap-e==0.0.0)\n",
            "  Downloading pycryptodomex-3.17-cp35-abi3-manylinux_2_17_x86_64.manylinux2014_x86_64.whl (2.1 MB)\n",
            "\u001b[2K     \u001b[90m━━━━━━━━━━━━━━━━━━━━━━━━━━━━━━━━━━━━━━━━\u001b[0m \u001b[32m2.1/2.1 MB\u001b[0m \u001b[31m35.5 MB/s\u001b[0m eta \u001b[36m0:00:00\u001b[0m\n",
            "\u001b[?25hRequirement already satisfied: urllib3<3,>=1.25.3 in /usr/local/lib/python3.10/dist-packages (from blobfile->shap-e==0.0.0) (1.26.15)\n",
            "Requirement already satisfied: lxml~=4.9 in /usr/local/lib/python3.10/dist-packages (from blobfile->shap-e==0.0.0) (4.9.2)\n",
            "Collecting ftfy (from clip@ git+https://github.com/openai/CLIP.git->shap-e==0.0.0)\n",
            "  Downloading ftfy-6.1.1-py3-none-any.whl (53 kB)\n",
            "\u001b[2K     \u001b[90m━━━━━━━━━━━━━━━━━━━━━━━━━━━━━━━━━━━━━━━━\u001b[0m \u001b[32m53.1/53.1 kB\u001b[0m \u001b[31m6.8 MB/s\u001b[0m eta \u001b[36m0:00:00\u001b[0m\n",
            "\u001b[?25hRequirement already satisfied: regex in /usr/local/lib/python3.10/dist-packages (from clip@ git+https://github.com/openai/CLIP.git->shap-e==0.0.0) (2022.10.31)\n",
            "Requirement already satisfied: torchvision in /usr/local/lib/python3.10/dist-packages (from clip@ git+https://github.com/openai/CLIP.git->shap-e==0.0.0) (0.15.1+cu118)\n",
            "Requirement already satisfied: six in /usr/local/lib/python3.10/dist-packages (from fire->shap-e==0.0.0) (1.16.0)\n",
            "Requirement already satisfied: termcolor in /usr/local/lib/python3.10/dist-packages (from fire->shap-e==0.0.0) (2.3.0)\n",
            "Requirement already satisfied: contourpy>=1.0.1 in /usr/local/lib/python3.10/dist-packages (from matplotlib->shap-e==0.0.0) (1.0.7)\n",
            "Requirement already satisfied: cycler>=0.10 in /usr/local/lib/python3.10/dist-packages (from matplotlib->shap-e==0.0.0) (0.11.0)\n",
            "Requirement already satisfied: fonttools>=4.22.0 in /usr/local/lib/python3.10/dist-packages (from matplotlib->shap-e==0.0.0) (4.39.3)\n",
            "Requirement already satisfied: kiwisolver>=1.0.1 in /usr/local/lib/python3.10/dist-packages (from matplotlib->shap-e==0.0.0) (1.4.4)\n",
            "Requirement already satisfied: packaging>=20.0 in /usr/local/lib/python3.10/dist-packages (from matplotlib->shap-e==0.0.0) (23.1)\n",
            "Requirement already satisfied: pyparsing>=2.3.1 in /usr/local/lib/python3.10/dist-packages (from matplotlib->shap-e==0.0.0) (3.0.9)\n",
            "Requirement already satisfied: python-dateutil>=2.7 in /usr/local/lib/python3.10/dist-packages (from matplotlib->shap-e==0.0.0) (2.8.2)\n",
            "Requirement already satisfied: certifi>=2017.4.17 in /usr/local/lib/python3.10/dist-packages (from requests->shap-e==0.0.0) (2022.12.7)\n",
            "Requirement already satisfied: charset-normalizer~=2.0.0 in /usr/local/lib/python3.10/dist-packages (from requests->shap-e==0.0.0) (2.0.12)\n",
            "Requirement already satisfied: idna<4,>=2.5 in /usr/local/lib/python3.10/dist-packages (from requests->shap-e==0.0.0) (3.4)\n",
            "Requirement already satisfied: networkx>=2.2 in /usr/local/lib/python3.10/dist-packages (from scikit-image->shap-e==0.0.0) (3.1)\n",
            "Requirement already satisfied: imageio>=2.4.1 in /usr/local/lib/python3.10/dist-packages (from scikit-image->shap-e==0.0.0) (2.25.1)\n",
            "Requirement already satisfied: tifffile>=2019.7.26 in /usr/local/lib/python3.10/dist-packages (from scikit-image->shap-e==0.0.0) (2023.4.12)\n",
            "Requirement already satisfied: PyWavelets>=1.1.1 in /usr/local/lib/python3.10/dist-packages (from scikit-image->shap-e==0.0.0) (1.4.1)\n",
            "Requirement already satisfied: typing-extensions in /usr/local/lib/python3.10/dist-packages (from torch->shap-e==0.0.0) (4.5.0)\n",
            "Requirement already satisfied: sympy in /usr/local/lib/python3.10/dist-packages (from torch->shap-e==0.0.0) (1.11.1)\n",
            "Requirement already satisfied: jinja2 in /usr/local/lib/python3.10/dist-packages (from torch->shap-e==0.0.0) (3.1.2)\n",
            "Requirement already satisfied: triton==2.0.0 in /usr/local/lib/python3.10/dist-packages (from torch->shap-e==0.0.0) (2.0.0)\n",
            "Requirement already satisfied: cmake in /usr/local/lib/python3.10/dist-packages (from triton==2.0.0->torch->shap-e==0.0.0) (3.25.2)\n",
            "Requirement already satisfied: lit in /usr/local/lib/python3.10/dist-packages (from triton==2.0.0->torch->shap-e==0.0.0) (16.0.3)\n",
            "Requirement already satisfied: wcwidth>=0.2.5 in /usr/local/lib/python3.10/dist-packages (from ftfy->clip@ git+https://github.com/openai/CLIP.git->shap-e==0.0.0) (0.2.6)\n",
            "Requirement already satisfied: MarkupSafe>=2.0 in /usr/local/lib/python3.10/dist-packages (from jinja2->torch->shap-e==0.0.0) (2.1.2)\n",
            "Requirement already satisfied: mpmath>=0.19 in /usr/local/lib/python3.10/dist-packages (from sympy->torch->shap-e==0.0.0) (1.3.0)\n",
            "Building wheels for collected packages: clip, fire\n",
            "  Building wheel for clip (setup.py) ... \u001b[?25l\u001b[?25hdone\n",
            "  Created wheel for clip: filename=clip-1.0-py3-none-any.whl size=1369370 sha256=e2f89e46919d42111096d13d7fd02e3fef6bbb2c40cbe375079614e33fbd4a42\n",
            "  Stored in directory: /tmp/pip-ephem-wheel-cache-ni4wy2o6/wheels/da/2b/4c/d6691fa9597aac8bb85d2ac13b112deb897d5b50f5ad9a37e4\n",
            "  Building wheel for fire (setup.py) ... \u001b[?25l\u001b[?25hdone\n",
            "  Created wheel for fire: filename=fire-0.5.0-py2.py3-none-any.whl size=116932 sha256=3543427362e59f1f13681f8c36f58f71c863910f846ad9edd7554279f1b23672\n",
            "  Stored in directory: /root/.cache/pip/wheels/90/d4/f7/9404e5db0116bd4d43e5666eaa3e70ab53723e1e3ea40c9a95\n",
            "Successfully built clip fire\n",
            "Installing collected packages: pycryptodomex, ftfy, fire, blobfile, clip, shap-e\n",
            "  Running setup.py develop for shap-e\n",
            "Successfully installed blobfile-2.0.2 clip-1.0 fire-0.5.0 ftfy-6.1.1 pycryptodomex-3.17 shap-e-0.0.0\n"
          ]
        }
      ]
    },
    {
      "cell_type": "code",
      "source": [
        "import torch\n",
        "\n",
        "from shap_e.diffusion.sample import sample_latents\n",
        "from shap_e.diffusion.gaussian_diffusion import diffusion_from_config\n",
        "from shap_e.models.download import load_model, load_config\n",
        "from shap_e.util.notebooks import create_pan_cameras, decode_latent_images, gif_widget"
      ],
      "metadata": {
        "id": "0m-XcU8i0WmR"
      },
      "execution_count": 11,
      "outputs": []
    },
    {
      "cell_type": "code",
      "source": [
        "device = torch.device('cuda' if torch.cuda.is_available() else 'cpu')\n"
      ],
      "metadata": {
        "id": "DoZyEOAv0i5A"
      },
      "execution_count": 14,
      "outputs": []
    },
    {
      "cell_type": "code",
      "source": [
        "xm = load_model('transmitter', device=device)\n",
        "model = load_model('text300M', device=device)\n",
        "diffusion = diffusion_from_config(load_config('diffusion'))"
      ],
      "metadata": {
        "colab": {
          "base_uri": "https://localhost:8080/",
          "height": 119,
          "referenced_widgets": [
            "0985d8f9925849b1bdab72d2296786fa",
            "8c5a435e777549f1aaa69442de4027ea",
            "e9575da9638f44a3a8b5264d8b290ac2",
            "f19cf66e3bd94c959a6506afe12bab22",
            "80219080a5b34ddf8976435085886025",
            "b446fe6aad184f3484a39c02ffed8963",
            "809c48c080be40ee95c778ec44392cac",
            "0a492665978d4bd79b45e178f2754645",
            "827190bbca5f4c7e8179accbb9ffbf87",
            "1d51da771e80425c8e14342345d91f9e",
            "5d58082ce85142189e33377b197cb3e3",
            "76cc7d4322ee473d96ee79e51a9395b5",
            "7990db1f95804fab8fb503a7d7e96947",
            "20d224353cbc4e95b8094a344eaccde4",
            "6798f1224cac468f9ca70e62cc2d5621",
            "6075c9c686d04261807ebf0348b8f599",
            "558c8d2749f84d3797398e89e284b65c",
            "6b8bb83dc79d4de4923b6c4f244cf262",
            "7b7b18dd17334001adf028cb740aad93",
            "0d8a61269ebf48088790202ebc160978",
            "078dee41191548b3b3e016e6dc6179e7",
            "869801a67aca46daaa07f8f3a7f0230b"
          ]
        },
        "id": "RybJQ3160yFe",
        "outputId": "4d63977f-f575-4b47-90b1-944c32ed71c5"
      },
      "execution_count": 17,
      "outputs": [
        {
          "output_type": "display_data",
          "data": {
            "text/plain": [
              "  0%|          | 0.00/1.78G [00:00<?, ?iB/s]"
            ],
            "application/vnd.jupyter.widget-view+json": {
              "version_major": 2,
              "version_minor": 0,
              "model_id": "0985d8f9925849b1bdab72d2296786fa"
            }
          },
          "metadata": {}
        },
        {
          "output_type": "stream",
          "name": "stderr",
          "text": [
            "100%|████████████████████████████████████████| 890M/890M [00:08<00:00, 107MiB/s]\n"
          ]
        },
        {
          "output_type": "display_data",
          "data": {
            "text/plain": [
              "  0%|          | 0.00/1.26G [00:00<?, ?iB/s]"
            ],
            "application/vnd.jupyter.widget-view+json": {
              "version_major": 2,
              "version_minor": 0,
              "model_id": "76cc7d4322ee473d96ee79e51a9395b5"
            }
          },
          "metadata": {}
        }
      ]
    },
    {
      "cell_type": "code",
      "source": [
        "batch_size = 4\n",
        "guidance_scale = 15.0\n",
        "prompt = \"A helicopter\"\n",
        "\n",
        "latents = sample_latents(\n",
        "    batch_size=batch_size,\n",
        "    model=model,\n",
        "    diffusion=diffusion,\n",
        "    guidance_scale=guidance_scale,\n",
        "    model_kwargs=dict(texts=[prompt] * batch_size),\n",
        "    progress=True,\n",
        "    clip_denoised=True,\n",
        "    use_fp16=True,\n",
        "    use_karras=True,\n",
        "    karras_steps=64,\n",
        "    sigma_min=1e-3,\n",
        "    sigma_max=160,\n",
        "    s_churn=0,\n",
        ")"
      ],
      "metadata": {
        "colab": {
          "base_uri": "https://localhost:8080/",
          "height": 49,
          "referenced_widgets": [
            "e9a5e68e5e194cb1b8e95dd54b6f7302",
            "e058ac0647ae4186acce8cdf11b030ce",
            "5ef784a7ccf045b4aa751e797d491501",
            "c3bdb425a12c4afebec02e926b000531",
            "b7e84ad3b1e34aad85dd68a0b8663af2",
            "6a7347ef1aec46369dd265cf4b25ecdf",
            "a0776643f69844ad91692e90df50bf9e",
            "3ad0504840f14b8abd0f17dda2c54c4c",
            "31400b88e9f3454bbcca76afc09260a1",
            "b336195ab1ae4f3ca5825a9af97b9ff9",
            "ced3710292b6402fabda3c0eeebd49f4"
          ]
        },
        "id": "Ye90kA6KeYjB",
        "outputId": "43f78f83-0fce-4ad0-8071-7b2f703e918b"
      },
      "execution_count": 21,
      "outputs": [
        {
          "output_type": "display_data",
          "data": {
            "text/plain": [
              "  0%|          | 0/64 [00:00<?, ?it/s]"
            ],
            "application/vnd.jupyter.widget-view+json": {
              "version_major": 2,
              "version_minor": 0,
              "model_id": "e9a5e68e5e194cb1b8e95dd54b6f7302"
            }
          },
          "metadata": {}
        }
      ]
    },
    {
      "cell_type": "code",
      "source": [
        "render_mode = 'nerf' # you can change this to 'stf'\n",
        "size = 64 # this is the size of the renders; higher values take longer to render.\n",
        "\n",
        "cameras = create_pan_cameras(size, device)\n",
        "for i, latent in enumerate(latents):\n",
        "    images = decode_latent_images(xm, latent, cameras, rendering_mode=render_mode)\n",
        "    display(gif_widget(images))"
      ],
      "metadata": {
        "colab": {
          "base_uri": "https://localhost:8080/",
          "height": 319,
          "referenced_widgets": [
            "008263554bde4e6e91cde167995b50a2",
            "ed29116852a24bb9ae6cacf8b68d3440",
            "76e415a017e9415c921ed98107154398",
            "f42c55dabad04ff883f526afd766046d",
            "702f352086584b459b536d09bd7c984f",
            "df5403f526784b92b20f819d718522df",
            "66c99422f6414b6083f2daa373dbc6dd",
            "03d778b0ab9e44f2b7f04dfd793b5505",
            "345f005cee014ceab1b023d637ae9731",
            "9150ab9028d0484ea5eec37a7103544e",
            "83ad790028a749eba4558cc838989914",
            "2e1874799fa040c4917d57ad5b7fa85e"
          ]
        },
        "id": "iSN7AXg2eeW3",
        "outputId": "25e7a036-539f-45c2-8443-c7e4f7b5839d"
      },
      "execution_count": 22,
      "outputs": [
        {
          "output_type": "display_data",
          "data": {
            "text/plain": [
              "HTML(value='<img src=\"data:image/gif;base64,R0lGODlhQABAAIMAAAAAAAAzADMzAAAAMzMzM2ZmZmaZZpmZZmZmmZlmmWaZmZmZmc…"
            ],
            "application/vnd.jupyter.widget-view+json": {
              "version_major": 2,
              "version_minor": 0,
              "model_id": "008263554bde4e6e91cde167995b50a2"
            }
          },
          "metadata": {}
        },
        {
          "output_type": "display_data",
          "data": {
            "text/plain": [
              "HTML(value='<img src=\"data:image/gif;base64,R0lGODlhQABAAIMAAAAAAAAzADMzAAAAMwAzMzMzMzNmZmZmZmaZZmZmmWaZmZmZmW…"
            ],
            "application/vnd.jupyter.widget-view+json": {
              "version_major": 2,
              "version_minor": 0,
              "model_id": "f42c55dabad04ff883f526afd766046d"
            }
          },
          "metadata": {}
        },
        {
          "output_type": "display_data",
          "data": {
            "text/plain": [
              "HTML(value='<img src=\"data:image/gif;base64,R0lGODlhQABAAIQAAAAAADMAAAAzADMzAAAAMwAzMzMzM2ZmM2ZmZplmZmaZZpmZZm…"
            ],
            "application/vnd.jupyter.widget-view+json": {
              "version_major": 2,
              "version_minor": 0,
              "model_id": "66c99422f6414b6083f2daa373dbc6dd"
            }
          },
          "metadata": {}
        },
        {
          "output_type": "display_data",
          "data": {
            "text/plain": [
              "HTML(value='<img src=\"data:image/gif;base64,R0lGODlhQABAAIMAAAAAAAAzADMzAAAAMzMAMwAzMzMzM2ZmM2YzZjNmZmZmZmaZZj…"
            ],
            "application/vnd.jupyter.widget-view+json": {
              "version_major": 2,
              "version_minor": 0,
              "model_id": "9150ab9028d0484ea5eec37a7103544e"
            }
          },
          "metadata": {}
        }
      ]
    },
    {
      "cell_type": "code",
      "source": [
        "from google.colab import drive\n",
        "drive.mount('/content/drive')"
      ],
      "metadata": {
        "id": "VUMeTcdFD5AR"
      },
      "execution_count": null,
      "outputs": []
    },
    {
      "cell_type": "code",
      "source": [
        "# Example of saving the latents as meshes.\n",
        "from shap_e.util.notebooks import decode_latent_mesh\n",
        "\n",
        "for i, latent in enumerate(latents):\n",
        "    with open(f'example_mesh_{i}.ply', 'wb') as f:\n",
        "        decode_latent_mesh(xm, latent).tri_mesh().write_ply(f)"
      ],
      "metadata": {
        "id": "zCWLAsNuehAU"
      },
      "execution_count": 23,
      "outputs": []
    },
    {
      "cell_type": "code",
      "source": [],
      "metadata": {
        "id": "pWb6eNF2f1aJ"
      },
      "execution_count": null,
      "outputs": []
    }
  ]
}